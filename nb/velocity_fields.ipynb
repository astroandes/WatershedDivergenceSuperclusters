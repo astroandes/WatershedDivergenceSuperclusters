{
 "cells": [
  {
   "cell_type": "code",
   "execution_count": 1,
   "metadata": {},
   "outputs": [],
   "source": [
    "import abacus_cosmos.Halos as ach\n",
    "from astropy.table import Table\n",
    "import matplotlib.pyplot as plt\n",
    "import numpy as np\n",
    "import glob\n",
    "from collections import Counter\n",
    "import scipy.ndimage as scpimg\n",
    "import h5py\n",
    "\n",
    "%matplotlib inline"
   ]
  },
  {
   "cell_type": "code",
   "execution_count": 2,
   "metadata": {},
   "outputs": [],
   "source": [
    "halo_data = ach.read_halos_FoF(\"/Users/forero/data/AbacusCosmos/AbacusCosmos_720box_planck_00_00_FoF_halos_z0.100\")"
   ]
  },
  {
   "cell_type": "code",
   "execution_count": 3,
   "metadata": {},
   "outputs": [
    {
     "data": {
      "image/png": "[encoded data removed]",
      "text/plain": [
       "<Figure size 432x288 with 1 Axes>"
      ]
     },
     "metadata": {
      "needs_background": "light"
     },
     "output_type": "display_data"
    }
   ],
   "source": [
    "_ = plt.hist(np.log10(halo_data['vcirc_max']), log=True)"
   ]
  },
  {
   "cell_type": "code",
   "execution_count": 4,
   "metadata": {},
   "outputs": [
    {
     "name": "stdout",
     "output_type": "stream",
     "text": [
      "16943\n"
     ]
    }
   ],
   "source": [
    "ii = halo_data['vcirc_max']>300.0\n",
    "v_x = halo_data['vel'][:,0]\n",
    "\n",
    "jj = (halo_data['vcirc_max']>219)&(halo_data['vcirc_max']<221)\n",
    "pos_MW = halo_data['pos'][jj,:]\n",
    "print(np.count_nonzero(jj))"
   ]
  },
  {
   "cell_type": "code",
   "execution_count": 5,
   "metadata": {},
   "outputs": [],
   "source": [
    "int_pos_MW = np.int_((pos_MW+(720/2.0))/2.0)"
   ]
  },
  {
   "cell_type": "code",
   "execution_count": 6,
   "metadata": {},
   "outputs": [
    {
     "data": {
      "text/plain": [
       "array([[ 15, 357,  78],\n",
       "       [ 88, 354, 198],\n",
       "       [ 37, 352,  63],\n",
       "       ...,\n",
       "       [299, 194,  60],\n",
       "       [340, 205, 133],\n",
       "       [303, 205,   1]])"
      ]
     },
     "execution_count": 6,
     "metadata": {},
     "output_type": "execute_result"
    }
   ],
   "source": [
    "int_pos_MW"
   ]
  },
  {
   "cell_type": "code",
   "execution_count": 7,
   "metadata": {},
   "outputs": [
    {
     "data": {
      "text/plain": [
       "(array([1.0000e+01, 1.8000e+01, 7.8000e+01, 3.1400e+02, 1.4110e+03,\n",
       "        5.0180e+03, 1.4898e+04, 3.4780e+04, 5.7450e+04, 6.5402e+04,\n",
       "        4.9959e+04, 2.7192e+04, 1.0511e+04, 3.2450e+03, 8.5300e+02,\n",
       "        2.4200e+02, 4.7000e+01, 1.8000e+01, 4.0000e+00, 2.0000e+00]),\n",
       " array([-1756.2117  , -1567.9973  , -1379.783   , -1191.5685  ,\n",
       "        -1003.3541  ,  -815.1398  ,  -626.92535 ,  -438.71097 ,\n",
       "         -250.49658 ,   -62.282196,   125.93219 ,   314.14658 ,\n",
       "          502.36096 ,   690.5753  ,   878.78973 ,  1067.0042  ,\n",
       "         1255.2185  ,  1443.4329  ,  1631.6472  ,  1819.8617  ,\n",
       "         2008.076   ], dtype=float32),\n",
       " <a list of 20 Patch objects>)"
      ]
     },
     "execution_count": 7,
     "metadata": {},
     "output_type": "execute_result"
    },
    {
     "data": {
      "image/png": "[encoded data removed]",
      "text/plain": [
       "<Figure size 432x288 with 1 Axes>"
      ]
     },
     "metadata": {
      "needs_background": "light"
     },
     "output_type": "display_data"
    }
   ],
   "source": [
    "plt.hist(v_x[ii], bins=20, log=True)"
   ]
  },
  {
   "cell_type": "code",
   "execution_count": 8,
   "metadata": {},
   "outputs": [
    {
     "data": {
      "text/plain": [
       "-359.99985"
      ]
     },
     "execution_count": 8,
     "metadata": {},
     "output_type": "execute_result"
    }
   ],
   "source": [
    "halo_data['pos'].min()"
   ]
  },
  {
   "cell_type": "code",
   "execution_count": 9,
   "metadata": {},
   "outputs": [
    {
     "data": {
      "image/png": "[encoded data removed]",
      "text/plain": [
       "<Figure size 432x288 with 1 Axes>"
      ]
     },
     "metadata": {
      "needs_background": "light"
     },
     "output_type": "display_data"
    }
   ],
   "source": [
    "_=plt.hist(np.log10(halo_data['N']*1E10), log=True, bins=30)"
   ]
  },
  {
   "cell_type": "code",
   "execution_count": 10,
   "metadata": {},
   "outputs": [],
   "source": [
    "filename = \"/Users/forero/data/AbacusCosmos/AbacusCosmos_720box_planck_00_00_FoF_halos_z0.100/fields/velocity_AbacusCosmos_720box_planck_00_0_FoF_vmax_300.0_sigma_3.0_nside_360.hdf5\"\n",
    "f = h5py.File(filename, 'r')\n",
    "div_test = f['divergence'][...]\n",
    "vel_x = f['vel_x'][...]\n",
    "vel_y = f['vel_y'][...]\n",
    "vel_z = f['vel_z'][...]\n",
    "f.close()"
   ]
  },
  {
   "cell_type": "code",
   "execution_count": 27,
   "metadata": {},
   "outputs": [],
   "source": [
    "div_MW = []\n",
    "for i in range(len(int_pos_MW)):\n",
    "    div_MW.append(div_test[int_pos_MW[i,0] , int_pos_MW[i,1], int_pos_MW[i,2]])\n",
    "div_MW = np.array(div_MW)"
   ]
  },
  {
   "cell_type": "code",
   "execution_count": 26,
   "metadata": {},
   "outputs": [
    {
     "data": {
      "image/png": "[encoded data removed]",
      "text/plain": [
       "<Figure size 432x288 with 1 Axes>"
      ]
     },
     "metadata": {
      "needs_background": "light"
     },
     "output_type": "display_data"
    }
   ],
   "source": [
    "_ = plt.hist(div_test.flatten(), bins=np.linspace(-20,20,100), log=True)\n",
    "_ = plt.hist(div_MW, bins=np.linspace(-20,20,100), log=True)"
   ]
  },
  {
   "cell_type": "code",
   "execution_count": 30,
   "metadata": {},
   "outputs": [
    {
     "name": "stdout",
     "output_type": "stream",
     "text": [
      "-0.1349775563171039 0.45508935592870114\n",
      "2.9940994052305318e-18 0.30342050510475227\n"
     ]
    }
   ],
   "source": [
    "print(np.mean(div_MW), np.std(div_MW))\n",
    "print(np.mean(div_test), np.std(div_test))"
   ]
  },
  {
   "cell_type": "code",
   "execution_count": null,
   "metadata": {},
   "outputs": [],
   "source": [
    "_=plt.hist(vel_x.flatten(), bins=np.linspace(-40,40,100), log=True)"
   ]
  },
  {
   "cell_type": "code",
   "execution_count": null,
   "metadata": {},
   "outputs": [],
   "source": [
    "filename = \"/Users/forero/data/AbacusCosmos/AbacusCosmos_720box_planck_00_00_FoF_halos_z0.100/fields/watershed_AbacusCosmos_720box_planck_00_0_FoF_vmax_300.0_sigma_1.0_nside_72.hdf5\"\n",
    "f = h5py.File(filename, 'r')\n",
    "ws_test = f['watershed_group'][...]\n",
    "f.close()"
   ]
  },
  {
   "cell_type": "code",
   "execution_count": null,
   "metadata": {},
   "outputs": [],
   "source": [
    "np.shape(ws_test), np.shape(div_test)"
   ]
  },
  {
   "cell_type": "code",
   "execution_count": null,
   "metadata": {},
   "outputs": [],
   "source": [
    "slice_id=46\n",
    "\n",
    "plt.subplot(1,2,1)\n",
    "plt.imshow(div_test[:,:,slice_id])\n",
    "plt.grid(False)\n",
    "\n",
    "\n",
    "plt.subplot(1,2,2)\n",
    "plt.imshow(ws_test[:,:,slice_id], cmap='Spectral')\n",
    "plt.grid(False)"
   ]
  },
  {
   "cell_type": "code",
   "execution_count": null,
   "metadata": {},
   "outputs": [],
   "source": [
    "c = Counter(ws_test.flatten())"
   ]
  },
  {
   "cell_type": "code",
   "execution_count": null,
   "metadata": {},
   "outputs": [],
   "source": [
    "group_ids = np.array(list(c.keys()))\n",
    "size_group = np.array(list(c.values()))"
   ]
  },
  {
   "cell_type": "code",
   "execution_count": null,
   "metadata": {},
   "outputs": [],
   "source": [
    "_=plt.hist(np.log10(size_group*10**3), log=True)\n",
    "plt.vlines(np.log10(100**3), 1, 1E3)"
   ]
  },
  {
   "cell_type": "code",
   "execution_count": null,
   "metadata": {},
   "outputs": [],
   "source": [
    "ii_largest = np.argmax(size_group)\n",
    "id_largest = group_ids[ii_largest]\n",
    "print(id_largest)"
   ]
  },
  {
   "cell_type": "code",
   "execution_count": null,
   "metadata": {},
   "outputs": [],
   "source": [
    "not_largest = np.argwhere(ws_test!=0)\n",
    "largest = np.argwhere(ws_test==0)\n",
    "print(np.shape(largest))\n",
    "#_=plt.hist(largest[:,0])\n",
    "#_=plt.hist(largest[:,1])\n",
    "_=plt.hist(largest[:,2])"
   ]
  },
  {
   "cell_type": "code",
   "execution_count": null,
   "metadata": {},
   "outputs": [],
   "source": [
    "slice_id=45\n",
    "\n",
    "tmp_div_test = div_test.copy()\n",
    "\n",
    "tmp_div_test[not_largest]=0.0\n",
    "plt.imshow(div_test[:,:,slice_id])\n",
    "#plt.colorbar()\n",
    "plt.imshow(ws_test[:,:,slice_id], cmap='Paired', alpha=0.3)\n",
    "plt.grid(False)\n"
   ]
  },
  {
   "cell_type": "code",
   "execution_count": null,
   "metadata": {},
   "outputs": [],
   "source": [
    "plt.scatter(largest[:,0], largest[:,1])"
   ]
  },
  {
   "cell_type": "code",
   "execution_count": null,
   "metadata": {},
   "outputs": [],
   "source": [
    "plt.scatter(largest[:,1], largest[:,2])"
   ]
  },
  {
   "cell_type": "code",
   "execution_count": null,
   "metadata": {},
   "outputs": [],
   "source": [
    "div = {}\n",
    "\n",
    "filename = \"../data/AbacusCosmos_720box_planck_00_0_rockstar_halos/z0.1/fields/velocity_AbacusCosmos_720box_planck_00_0_rockstar_vmax_200.0_sigma_1.0_nside_360.hdf5\"\n",
    "f = h5py.File(filename, 'r')\n",
    "div[\"200_1\"] = f['divergence'][:,:,:]\n",
    "f.close()\n",
    "\n",
    "filename = \"../data/AbacusCosmos_720box_planck_00_0_rockstar_halos/z0.1/fields/velocity_AbacusCosmos_720box_planck_00_0_rockstar_vmax_300.0_sigma_1.0_nside_360.hdf5\"\n",
    "f = h5py.File(filename, 'r')\n",
    "div[\"300_1\"] = f['divergence'][:,:,:]\n",
    "f.close()\n",
    "\n",
    "filename = \"../data/AbacusCosmos_720box_planck_00_0_rockstar_halos/z0.1/fields/velocity_AbacusCosmos_720box_planck_00_0_rockstar_vmax_400.0_sigma_1.0_nside_360.hdf5\"\n",
    "f = h5py.File(filename, 'r')\n",
    "div[\"400_1\"] = f['divergence'][:,:,:]\n",
    "f.close()\n",
    "\n",
    "\n",
    "filename = \"../data/AbacusCosmos_720box_planck_00_0_rockstar_halos/z0.1/fields/velocity_AbacusCosmos_720box_planck_00_0_rockstar_vmax_200.0_sigma_4.0_nside_360.hdf5\"\n",
    "f = h5py.File(filename, 'r')\n",
    "div[\"200_4\"] = f['divergence'][:,:,:]\n",
    "f.close()\n",
    "\n",
    "filename = \"../data/AbacusCosmos_720box_planck_00_0_rockstar_halos/z0.1/fields/velocity_AbacusCosmos_720box_planck_00_0_rockstar_vmax_300.0_sigma_4.0_nside_360.hdf5\"\n",
    "f = h5py.File(filename, 'r')\n",
    "div[\"300_4\"] = f['divergence'][:,:,:]\n",
    "f.close()\n",
    "\n",
    "filename = \"../data/AbacusCosmos_720box_planck_00_0_rockstar_halos/z0.1/fields/velocity_AbacusCosmos_720box_planck_00_0_rockstar_vmax_400.0_sigma_4.0_nside_360.hdf5\"\n",
    "f = h5py.File(filename, 'r')\n",
    "div[\"400_4\"] = f['divergence'][:,:,:]\n",
    "f.close()"
   ]
  },
  {
   "cell_type": "code",
   "execution_count": null,
   "metadata": {},
   "outputs": [],
   "source": []
  },
  {
   "cell_type": "code",
   "execution_count": null,
   "metadata": {},
   "outputs": [],
   "source": [
    "z_slice = 109\n",
    "plt.figure(figsize=(15,10))\n",
    "\n",
    "plt.subplot(2,3,1)\n",
    "plt.imshow(div[\"200_1\"][z_slice,:,:], cmap='viridis')\n",
    "plt.grid(False)\n",
    "plt.colorbar(label='speed (km/s)')\n",
    "\n",
    "plt.subplot(2,3,4)\n",
    "_ = plt.hist(div[\"200_1\"][z_slice,:,:].flatten(), bins=np.linspace(-70,50,50), log=True)\n",
    "\n",
    "\n",
    "plt.subplot(2,3,2)\n",
    "plt.imshow(div[\"300_1\"][z_slice,:,:], cmap='viridis')\n",
    "plt.grid(False)\n",
    "plt.colorbar(label='divergencia (km/s/Mpc/h)')\n",
    "\n",
    "plt.subplot(2,3,5)\n",
    "_ = plt.hist(div[\"300_1\"][z_slice,:,:].flatten(), bins=np.linspace(-70,50,50), log=True)\n",
    "\n",
    "\n",
    "plt.subplot(2,3,3)\n",
    "plt.imshow(div[\"400_1\"][z_slice,:,:], cmap='viridis')\n",
    "plt.grid(False)\n",
    "plt.colorbar(label='divergencia (km/s/Mpc/h)')\n",
    "\n",
    "plt.subplot(2,3,6)\n",
    "_ = plt.hist(div[\"400_1\"][z_slice,:,:].flatten(), bins=np.linspace(-70,50,50), log=True)\n"
   ]
  },
  {
   "cell_type": "code",
   "execution_count": null,
   "metadata": {},
   "outputs": [],
   "source": [
    "z_slice = 109\n",
    "plt.figure(figsize=(15,10))\n",
    "\n",
    "plt.subplot(2,3,1)\n",
    "plt.imshow(div[\"200_4\"][z_slice,:,:], cmap='viridis')\n",
    "plt.grid(False)\n",
    "plt.colorbar(label='speed (km/s)')\n",
    "\n",
    "plt.subplot(2,3,4)\n",
    "_ = plt.hist(div[\"200_4\"][z_slice,:,:].flatten(), bins=np.linspace(-10,10,50), log=True)\n",
    "\n",
    "\n",
    "plt.subplot(2,3,2)\n",
    "plt.imshow(div[\"300_4\"][z_slice,:,:], cmap='viridis')\n",
    "plt.grid(False)\n",
    "plt.colorbar(label='divergencia (km/s/Mpc/h)')\n",
    "\n",
    "plt.subplot(2,3,5)\n",
    "_ = plt.hist(div[\"300_4\"][z_slice,:,:].flatten(), bins=np.linspace(-10,10,50), log=True)\n",
    "\n",
    "\n",
    "plt.subplot(2,3,3)\n",
    "plt.imshow(div[\"400_4\"][z_slice,:,:], cmap='viridis')\n",
    "plt.grid(False)\n",
    "plt.colorbar(label='divergencia (km/s/Mpc/h)')\n",
    "\n",
    "plt.subplot(2,3,6)\n",
    "_ = plt.hist(div[\"400_4\"][z_slice,:,:].flatten(), bins=np.linspace(-10,10,50), log=True)\n"
   ]
  },
  {
   "cell_type": "code",
   "execution_count": null,
   "metadata": {},
   "outputs": [],
   "source": [
    "z_slice = 10\n",
    "plt.figure(figsize=(15,5))\n",
    "\n",
    "plt.subplot(1,3,1)\n",
    "plt.imshow(div[200][z_slice,:,:], cmap='viridis')\n",
    "plt.grid(False)\n",
    "plt.colorbar(label='speed (km/s)')\n",
    "\n",
    "\n",
    "plt.subplot(1,3,2)\n",
    "plt.imshow(div[300][z_slice,:,:], cmap='viridis')\n",
    "plt.grid(False)\n",
    "plt.colorbar(label='divergencia (km/s/Mpc/h)')\n",
    "\n",
    "\n",
    "plt.subplot(1,3,3)\n",
    "plt.imshow(div[400][z_slice,:,:], cmap='viridis')\n",
    "plt.grid(False)\n",
    "plt.colorbar(label='divergencia (km/s/Mpc/h)')"
   ]
  },
  {
   "cell_type": "code",
   "execution_count": null,
   "metadata": {},
   "outputs": [],
   "source": [
    "z_slice = 10\n",
    "plt.figure(figsize=(15,5))\n",
    "\n",
    "plt.subplot(1,3,1)\n",
    "plt.imshow(water[200][z_slice,:,:], cmap='viridis')\n",
    "plt.grid(False)\n",
    "plt.colorbar(label='speed (km/s)')\n",
    "\n",
    "\n",
    "plt.subplot(1,3,2)\n",
    "plt.imshow(water[300][z_slice,:,:], cmap='viridis')\n",
    "plt.grid(False)\n",
    "plt.colorbar(label='divergencia (km/s/Mpc/h)')\n",
    "\n",
    "\n",
    "plt.subplot(1,3,3)\n",
    "plt.imshow(water[400][z_slice,:,:], cmap='viridis')\n",
    "plt.grid(False)\n",
    "plt.colorbar(label='divergencia (km/s/Mpc/h)')"
   ]
  },
  {
   "cell_type": "code",
   "execution_count": null,
   "metadata": {},
   "outputs": [],
   "source": [
    "L_cell = 10.0\n",
    "volume_laniakea = 4*((180*0.7/2))**3\n",
    "f = water[400].flatten()\n",
    "f = f[f!=-1]\n",
    "c = Counter(f)\n",
    "vol = np.array(list(c.values()))*L_cell**3\n",
    "\n",
    "_= plt.hist(vol, log=True, bins=40)\n",
    "\n",
    "volume_laniakea = 4*((160*0.7/2))**3\n",
    "plt.axvline(x=volume_laniakea, color='red')\n",
    "volume_laniakea_min = 4*((155*0.7/2))**3\n",
    "plt.axvline(x=volume_laniakea_min, color='red')\n",
    "volume_laniakea_max = 4*((165*0.7/2))**3\n",
    "plt.axvline(x=volume_laniakea_max, color='red')\n",
    "\n",
    "n_laniakea = np.count_nonzero((vol<volume_laniakea_max) & (vol>volume_laniakea_min))\n",
    "print(n_laniakea)"
   ]
  },
  {
   "cell_type": "code",
   "execution_count": null,
   "metadata": {},
   "outputs": [],
   "source": [
    "L_cell = 10.0\n",
    "volume_laniakea = 4*((180*0.7/2))**3\n",
    "\n",
    "f = water[200].flatten()\n",
    "f = f[f!=-1]\n",
    "c = Counter(f)\n",
    "vol_a = np.array(list(c.values()))*L_cell**3\n",
    "\n",
    "\n",
    "\n",
    "f = water[300].flatten()\n",
    "f = f[f!=-1]\n",
    "c = Counter(f)\n",
    "vol_b = np.array(list(c.values()))*L_cell**3\n",
    "\n",
    "\n",
    "f = water[400].flatten()\n",
    "f = f[f!=-1]\n",
    "c = Counter(f)\n",
    "vol_c = np.array(list(c.values()))*L_cell**3\n",
    "\n",
    "\n",
    "_= plt.hist(vol_a, log=True, bins=np.linspace(1,2E6,50))\n",
    "_= plt.hist(vol_b, log=True, bins=np.linspace(1,2E6,50))\n",
    "_= plt.hist(vol_c, log=True, bins=np.linspace(1,2E6,50))\n",
    "\n",
    "\n",
    "volume_laniakea = 4*((160*0.7/2))**3\n",
    "plt.axvline(x=volume_laniakea, color='red')\n",
    "volume_laniakea_min = 4*((155*0.7/2))**3\n",
    "plt.axvline(x=volume_laniakea_min, color='red')\n",
    "volume_laniakea_max = 4*((165*0.7/2))**3\n",
    "plt.axvline(x=volume_laniakea_max, color='red')\n",
    "\n",
    "n_laniakea = np.count_nonzero((vol<volume_laniakea_max) & (vol>volume_laniakea_min))\n",
    "print(n_laniakea)"
   ]
  },
  {
   "cell_type": "code",
   "execution_count": null,
   "metadata": {},
   "outputs": [],
   "source": [
    "div[1] = np.load(\"../data/AbacusCosmos_1100box_00_FoF_halos_z0.300/fields/div_box_1100.0_sigmacut_200.0_cell_10.0_smooth_1.0.npy\")\n",
    "div[2] = np.load(\"../data/AbacusCosmos_1100box_00_FoF_halos_z0.300/fields/div_box_1100.0_sigmacut_200.0_cell_5.0_smooth_2.0.npy\")\n",
    "div[4] = np.load(\"../data/AbacusCosmos_1100box_00_FoF_halos_z0.300/fields/div_box_1100.0_sigmacut_200.0_cell_2.5_smooth_4.0.npy\")\n",
    "\n",
    "water[1] = np.load(\"../data/AbacusCosmos_1100box_00_FoF_halos_z0.300/fields/watershed_box_1100.0_sigmacut_200.0_cell_10.0_smooth_1.0.npy\")\n",
    "water[2] = np.load(\"../data/AbacusCosmos_1100box_00_FoF_halos_z0.300/fields/watershed_box_1100.0_sigmacut_200.0_cell_5.0_smooth_2.0.npy\")\n",
    "water[4] = np.load(\"../data/AbacusCosmos_1100box_00_FoF_halos_z0.300/fields/watershed_box_1100.0_sigmacut_200.0_cell_2.5_smooth_4.0.npy\")"
   ]
  },
  {
   "cell_type": "code",
   "execution_count": null,
   "metadata": {},
   "outputs": [],
   "source": [
    "z_slice = 10\n",
    "plt.figure(figsize=(15,5))\n",
    "\n",
    "plt.subplot(1,3,1)\n",
    "plt.imshow(div[1][z_slice,:,:], cmap='viridis')\n",
    "plt.grid(False)\n",
    "plt.colorbar(label='speed (km/s)')\n",
    "\n",
    "\n",
    "plt.subplot(1,3,2)\n",
    "plt.imshow(div[2][z_slice,:,:], cmap='viridis')\n",
    "plt.grid(False)\n",
    "plt.colorbar(label='divergencia (km/s/Mpc/h)')\n",
    "\n",
    "\n",
    "plt.subplot(1,3,3)\n",
    "plt.imshow(div[4][z_slice,:,:], cmap='viridis')\n",
    "plt.grid(False)\n",
    "plt.colorbar(label='divergencia (km/s/Mpc/h)')"
   ]
  },
  {
   "cell_type": "code",
   "execution_count": null,
   "metadata": {},
   "outputs": [],
   "source": [
    "z_slice = 10\n",
    "plt.figure(figsize=(15,5))\n",
    "\n",
    "plt.subplot(1,3,1)\n",
    "plt.imshow(water[1][z_slice,:,:], cmap='viridis')\n",
    "plt.grid(False)\n",
    "plt.colorbar(label='speed (km/s)')\n",
    "\n",
    "\n",
    "plt.subplot(1,3,2)\n",
    "plt.imshow(water[2][z_slice,:,:], cmap='viridis')\n",
    "plt.grid(False)\n",
    "plt.colorbar(label='divergencia (km/s/Mpc/h)')\n",
    "\n",
    "\n",
    "plt.subplot(1,3,3)\n",
    "plt.imshow(water[4][z_slice,:,:], cmap='viridis')\n",
    "plt.grid(False)\n",
    "plt.colorbar(label='divergencia (km/s/Mpc/h)')"
   ]
  },
  {
   "cell_type": "code",
   "execution_count": null,
   "metadata": {},
   "outputs": [],
   "source": [
    "L_cell = 10.0\n",
    "volume_laniakea = 4*((180*0.7/2))**3\n",
    "\n",
    "f = water[1].flatten()\n",
    "f = f[f!=-1]\n",
    "c = Counter(f)\n",
    "vol = np.array(list(c.values()))*L_cell**3\n",
    "\n",
    "_= plt.hist(vol, log=True, bins=40)\n",
    "\n",
    "volume_laniakea = 4*((160*0.7/2))**3\n",
    "plt.axvline(x=volume_laniakea, color='red')\n",
    "volume_laniakea_min = 4*((155*0.7/2))**3\n",
    "plt.axvline(x=volume_laniakea_min, color='red')\n",
    "volume_laniakea_max = 4*((165*0.7/2))**3\n",
    "plt.axvline(x=volume_laniakea_max, color='red')\n",
    "\n",
    "n_laniakea = np.count_nonzero((vol<volume_laniakea_max) & (vol>volume_laniakea_min))\n",
    "print(n_laniakea)"
   ]
  },
  {
   "cell_type": "code",
   "execution_count": null,
   "metadata": {},
   "outputs": [],
   "source": [
    "L_cell = 10.0\n",
    "volume_laniakea = 4*((180*0.7/2))**3\n",
    "\n",
    "f = water[1].flatten()\n",
    "f = f[f!=-1]\n",
    "c = Counter(f)\n",
    "vol_a = np.array(list(c.values()))*L_cell**3\n",
    "\n",
    "\n",
    "L_cell = 5.0\n",
    "f = water[2].flatten()\n",
    "f = f[f!=-1]\n",
    "c = Counter(f)\n",
    "vol_b = np.array(list(c.values()))*L_cell**3\n",
    "\n",
    "L_cell = 2.5\n",
    "f = water[4].flatten()\n",
    "f = f[f!=-1]\n",
    "c = Counter(f)\n",
    "vol_c = np.array(list(c.values()))*L_cell**3\n",
    "\n",
    "\n",
    "_= plt.hist(vol_a, log=True, bins=np.linspace(1,2E6,50))\n",
    "_= plt.hist(vol_b, log=True, bins=np.linspace(1,2E6,50))\n",
    "_= plt.hist(vol_c, log=True, bins=np.linspace(1,2E6,50))\n",
    "\n",
    "\n",
    "volume_laniakea = 4*((160*0.7/2))**3\n",
    "plt.axvline(x=volume_laniakea, color='red')\n",
    "volume_laniakea_min = 4*((155*0.7/2))**3\n",
    "plt.axvline(x=volume_laniakea_min, color='red')\n",
    "volume_laniakea_max = 4*((165*0.7/2))**3\n",
    "plt.axvline(x=volume_laniakea_max, color='red')\n",
    "\n",
    "n_laniakea = np.count_nonzero((vol<volume_laniakea_max) & (vol>volume_laniakea_min))\n",
    "print(n_laniakea)"
   ]
  },
  {
   "cell_type": "code",
   "execution_count": null,
   "metadata": {},
   "outputs": [],
   "source": [
    "halo_data['subhalo_N']"
   ]
  },
  {
   "cell_type": "code",
   "execution_count": null,
   "metadata": {},
   "outputs": [],
   "source": [
    "tmp_vcirc  = halo_data['vcirc_max']\n",
    "milky_way_ii = (tmp_vcirc>200) & (tmp_vcirc<300)\n",
    "halo_pos = halo_data['pos'][milky_way_ii]\n",
    "halo_sigma_v = tmp_sigma_v[milky_way_ii]\n",
    "\n",
    "L_cell = 2.5\n",
    "L_box = 1100.0\n",
    "halo_pos = halo_pos + 0.5*L_box\n",
    "ii_halo = np.int_(halo_pos[:,0]/L_cell)\n",
    "jj_halo = np.int_(halo_pos[:,1]/L_cell)\n",
    "kk_halo = np.int_(halo_pos[:,2]/L_cell)\n",
    "divergence_4 = div[4][ii_halo, jj_halo, kk_halo]\n"
   ]
  },
  {
   "cell_type": "code",
   "execution_count": null,
   "metadata": {},
   "outputs": [],
   "source": [
    "tmp_vcirc  = halo_data['vcirc_max']\n",
    "milky_way_ii = (tmp_vcirc>200) & (tmp_vcirc<300)\n",
    "halo_pos = halo_data['pos'][milky_way_ii]\n",
    "halo_sigma_v = tmp_sigma_v[milky_way_ii]\n",
    "\n",
    "L_cell = 5.0\n",
    "L_box = 1100.0\n",
    "halo_pos = halo_pos + 0.5*L_box\n",
    "ii_halo = np.int_(halo_pos[:,0]/L_cell)\n",
    "jj_halo = np.int_(halo_pos[:,1]/L_cell)\n",
    "kk_halo = np.int_(halo_pos[:,2]/L_cell)\n",
    "divergence_2 = div[2][ii_halo, jj_halo, kk_halo]\n"
   ]
  },
  {
   "cell_type": "code",
   "execution_count": null,
   "metadata": {},
   "outputs": [],
   "source": [
    "tmp_vcirc  = halo_data['vcirc_max']\n",
    "milky_way_ii = (tmp_vcirc>200) & (tmp_vcirc<300)\n",
    "halo_pos = halo_data['pos'][milky_way_ii]\n",
    "halo_sigma_v = tmp_sigma_v[milky_way_ii]\n",
    "\n",
    "L_cell = 10.0\n",
    "L_box = 1100.0\n",
    "halo_pos = halo_pos + 0.5*L_box\n",
    "ii_halo = np.int_(halo_pos[:,0]/L_cell)\n",
    "jj_halo = np.int_(halo_pos[:,1]/L_cell)\n",
    "kk_halo = np.int_(halo_pos[:,2]/L_cell)\n",
    "divergence_1 = div[1][ii_halo, jj_halo, kk_halo]\n",
    "divergence_400 = div[400][ii_halo, jj_halo, kk_halo]\n",
    "divergence_300 = div[300][ii_halo, jj_halo, kk_halo]\n",
    "divergence_200 = div[200][ii_halo, jj_halo, kk_halo]\n",
    "\n"
   ]
  },
  {
   "cell_type": "code",
   "execution_count": null,
   "metadata": {},
   "outputs": [],
   "source": [
    "cen_A_div = np.sum([0.032,0.018,-0.020])\n",
    "LG_div = np.sum([0.029, 0.011, -0.025])\n",
    "print(cen_A_div, LG_div)\n",
    "print(np.std(-divergence_1/100))\n",
    "print(np.std(-divergence_2/100))\n",
    "print(np.std(-divergence_4/100))\n",
    "\n",
    "print('400', np.std(-divergence_400/100))\n",
    "print('300', np.std(-divergence_300/100))\n",
    "print('200', np.std(-divergence_200/100))\n",
    "\n",
    "\n",
    "_= plt.hist(-divergence_1/100, bins=np.linspace(-0.5, 1.5,50), density=True, log=True)\n",
    "_= plt.hist(-divergence_2/100, bins=np.linspace(-0.5, 1.5,50), density=True, log=True)\n",
    "_= plt.hist(-divergence_4/100, bins=np.linspace(-0.5, 1.5,50), density=True, log=True)\n",
    "\n",
    "plt.axvline(x=cen_A_div, color='red')\n",
    "plt.axvline(x=LG_div, color='red')\n",
    "\n",
    "plt.ylim([0.01,300])\n",
    "plt.grid(False)"
   ]
  },
  {
   "cell_type": "code",
   "execution_count": null,
   "metadata": {},
   "outputs": [],
   "source": [
    "720.0/3.0"
   ]
  },
  {
   "cell_type": "code",
   "execution_count": null,
   "metadata": {},
   "outputs": [],
   "source": []
  }
 ],
 "metadata": {
  "kernelspec": {
   "display_name": "Python 3",
   "language": "python",
   "name": "python3"
  },
  "language_info": {
   "codemirror_mode": {
    "name": "ipython",
    "version": 3
   },
   "file_extension": ".py",
   "mimetype": "text/x-python",
   "name": "python",
   "nbconvert_exporter": "python",
   "pygments_lexer": "ipython3",
   "version": "3.6.10"
  }
 },
 "nbformat": 4,
 "nbformat_minor": 2
}
