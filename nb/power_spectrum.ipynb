{
 "cells": [
  {
   "cell_type": "code",
   "execution_count": 2,
   "metadata": {},
   "outputs": [],
   "source": [
    "import numpy as np\n",
    "import h5py\n",
    "from nbodykit.lab import *\n",
    "import nbodykit \n",
    "import matplotlib.pyplot as plt"
   ]
  },
  {
   "cell_type": "code",
   "execution_count": 13,
   "metadata": {},
   "outputs": [],
   "source": [
    "def power_spectrum(filename):\n",
    "    print(filename)\n",
    "    f = h5py.File(filename, 'r')\n",
    "    div_test = f['divergence'][...]\n",
    "    f.close()\n",
    "\n",
    "    div_mesh = nbodykit.source.mesh.array.ArrayMesh(div_test, 720.0) \n",
    "    r = FFTPower(div_mesh, mode='1d', dk=0.002, kmin=0.005)\n",
    "    Pk = r.power\n",
    "\n",
    "    return {'k': Pk['k'], 'Pk':(Pk['power'].real- Pk.attrs['shotnoise'])}"
   ]
  },
  {
   "cell_type": "code",
   "execution_count": 14,
   "metadata": {},
   "outputs": [],
   "source": [
    "path = \"/Users/forero/data/AbacusCosmos/AbacusCosmos_720box_planck_00_00_FoF_halos_z0.100/fields/\""
   ]
  },
  {
   "cell_type": "code",
   "execution_count": 15,
   "metadata": {},
   "outputs": [],
   "source": [
    "pk = {}"
   ]
  },
  {
   "cell_type": "code",
   "execution_count": 16,
   "metadata": {},
   "outputs": [
    {
     "name": "stdout",
     "output_type": "stream",
     "text": [
      "/Users/forero/data/AbacusCosmos/AbacusCosmos_720box_planck_00_00_FoF_halos_z0.100/fields/velocity_AbacusCosmos_720box_planck_00_0_FoF_vmax_200.0_sigma_1.0_nside_360.hdf5\n"
     ]
    }
   ],
   "source": [
    "filename = \"velocity_AbacusCosmos_720box_planck_00_0_FoF_vmax_200.0_sigma_1.0_nside_360.hdf5\"\n",
    "pk['200_1.0'] = power_spectrum(path+filename)"
   ]
  },
  {
   "cell_type": "code",
   "execution_count": 17,
   "metadata": {},
   "outputs": [
    {
     "name": "stdout",
     "output_type": "stream",
     "text": [
      "/Users/forero/data/AbacusCosmos/AbacusCosmos_720box_planck_00_00_FoF_halos_z0.100/fields/velocity_AbacusCosmos_720box_planck_00_0_FoF_vmax_200.0_sigma_2.0_nside_360.hdf5\n"
     ]
    }
   ],
   "source": [
    "filename = \"velocity_AbacusCosmos_720box_planck_00_0_FoF_vmax_200.0_sigma_2.0_nside_360.hdf5\"\n",
    "pk['200_2.0'] = power_spectrum(path+filename)"
   ]
  },
  {
   "cell_type": "code",
   "execution_count": 18,
   "metadata": {},
   "outputs": [
    {
     "name": "stdout",
     "output_type": "stream",
     "text": [
      "/Users/forero/data/AbacusCosmos/AbacusCosmos_720box_planck_00_00_FoF_halos_z0.100/fields/velocity_AbacusCosmos_720box_planck_00_0_FoF_vmax_200.0_sigma_3.0_nside_360.hdf5\n"
     ]
    }
   ],
   "source": [
    "filename = \"velocity_AbacusCosmos_720box_planck_00_0_FoF_vmax_200.0_sigma_3.0_nside_360.hdf5\"\n",
    "pk['200_3.0'] = power_spectrum(path+filename)"
   ]
  },
  {
   "cell_type": "code",
   "execution_count": 22,
   "metadata": {},
   "outputs": [
    {
     "data": {
      "text/plain": [
       "(10, 100000)"
      ]
     },
     "execution_count": 22,
     "metadata": {},
     "output_type": "execute_result"
    },
    {
     "data": {
      "image/png": "[encoded data removed]",
      "text/plain": [
       "<Figure size 432x288 with 1 Axes>"
      ]
     },
     "metadata": {
      "needs_background": "light"
     },
     "output_type": "display_data"
    }
   ],
   "source": [
    "plt.loglog(pk['200_1.0']['k'], pk['200_1.0']['Pk'], label='1')\n",
    "plt.loglog(pk['200_2.0']['k'], pk['200_2.0']['Pk'], label='2')\n",
    "plt.loglog(pk['200_3.0']['k'], pk['200_3.0']['Pk'], label='3')\n",
    "\n",
    "# format the axes\n",
    "plt.xlabel(r\"$k$ [$h \\ \\mathrm{Mpc}^{-1}$]\")\n",
    "plt.ylabel(r\"$P(k)$ [$h^{-3}\\mathrm{Mpc}^3$]\")\n",
    "plt.legend()\n",
    "plt.xlim(0.005, 10.0)\n",
    "plt.ylim(10,100000)"
   ]
  },
  {
   "cell_type": "code",
   "execution_count": 40,
   "metadata": {},
   "outputs": [
    {
     "data": {
      "text/plain": [
       "0.001388888888888889"
      ]
     },
     "execution_count": 40,
     "metadata": {},
     "output_type": "execute_result"
    }
   ],
   "source": [
    "1/720."
   ]
  },
  {
   "cell_type": "code",
   "execution_count": null,
   "metadata": {},
   "outputs": [],
   "source": []
  },
  {
   "cell_type": "code",
   "execution_count": null,
   "metadata": {},
   "outputs": [],
   "source": []
  }
 ],
 "metadata": {
  "kernelspec": {
   "display_name": "nbodykit",
   "language": "python",
   "name": "nbodykit"
  },
  "language_info": {
   "codemirror_mode": {
    "name": "ipython",
    "version": 3
   },
   "file_extension": ".py",
   "mimetype": "text/x-python",
   "name": "python",
   "nbconvert_exporter": "python",
   "pygments_lexer": "ipython3",
   "version": "3.7.3"
  }
 },
 "nbformat": 4,
 "nbformat_minor": 4
}
