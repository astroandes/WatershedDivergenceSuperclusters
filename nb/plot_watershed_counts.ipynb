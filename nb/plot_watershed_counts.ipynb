{
 "cells": [
  {
   "cell_type": "code",
   "execution_count": 14,
   "metadata": {},
   "outputs": [],
   "source": [
    "import numpy as np\n",
    "import h5py\n",
    "import matplotlib.pyplot as plt\n",
    "import scipy.integrate\n",
    "from collections import Counter\n",
    "\n",
    "plt.rc('text', usetex=True)\n",
    "plt.rc('font', family='serif')\n",
    "MEDIUM_SIZE = 30\n",
    "SMALL_SIZE = 22\n",
    "SSSMALL_SIZE = 16\n",
    "\n",
    "plt.rc('font', size=SSSMALL_SIZE)          # controls default text sizes\n",
    "plt.rc('axes', titlesize=MEDIUM_SIZE)     # fontsize of the axes title\n",
    "plt.rc('axes', labelsize=MEDIUM_SIZE)    # fontsize of the x and y labels\n",
    "plt.rc('xtick', labelsize=SMALL_SIZE)    # fontsize of the tick labels\n",
    "plt.rc('ytick', labelsize=SMALL_SIZE) "
   ]
  },
  {
   "cell_type": "code",
   "execution_count": 92,
   "metadata": {},
   "outputs": [],
   "source": [
    "def watershed_summary(filename):\n",
    "    f = h5py.File(filename, 'r')\n",
    "    watershed = f['watershed_group'][...]\n",
    "    f.close()\n",
    "    counts = Counter(watershed.flatten())\n",
    "    clusters = np.array(list(counts.items()))\n",
    "    cluster_n_size = clusters[:,1]\n",
    "    cluster_radius = (3.0*(cluster_n_size*(720/320)**3)/(4.0*np.pi))**(1/3)\n",
    "    return {'mean_radius':np.mean(cluster_radius), 'std_radius':np.std(cluster_radius), \n",
    "            'N':len(cluster_n_size), 'max_radius':np.max(cluster_radius)}"
   ]
  },
  {
   "cell_type": "code",
   "execution_count": 93,
   "metadata": {},
   "outputs": [
    {
     "data": {
      "text/plain": [
       "array([[ 2. ,  6.5,  3. ],\n",
       "       [ 6. , 17.3,  9.6],\n",
       "       [10. , 27.2, 16.6],\n",
       "       [14. , 37.5, 22.4],\n",
       "       [20. , 51.6, 28. ]])"
      ]
     },
     "execution_count": 93,
     "metadata": {},
     "output_type": "execute_result"
    }
   ],
   "source": [
    "#data = np.array([sigma_vals, half_r_mock, half_r_sim])\n",
    "length_data = np.loadtxt(\"correlation_length.dat\")\n",
    "#R_s R_dd_gaussian_field R_dd_biased_tracers\n",
    "length_data"
   ]
  },
  {
   "cell_type": "code",
   "execution_count": 94,
   "metadata": {},
   "outputs": [],
   "source": [
    "ws = {}\n",
    "sigmas = [1.0, 3.0, 5.0, 7.0, 10.0]\n",
    "for sigma in sigmas:\n",
    "    filename = \"watershed_mock_AbacusCosmos_720box_planck_00_0_FoF_vmax_300.0_sigma_{:.1f}_nside_360.hdf5\".format(sigma)\n",
    "    ws['abacus_{:.2f}'.format(sigma*2)] = watershed_summary(filename)"
   ]
  },
  {
   "cell_type": "code",
   "execution_count": 95,
   "metadata": {},
   "outputs": [],
   "source": [
    "sigmas = [1.0, 3.0, 5.0, 7.0, 10.0]\n",
    "for sigma in sigmas:\n",
    "    filename = \"watershed_mock_divergence_mesh_360_box_720_slim_{}.h5\".format(int(sigma*2))\n",
    "    ws['gauss_{:.2f}'.format(sigma*2)] = watershed_summary(filename)"
   ]
  },
  {
   "cell_type": "code",
   "execution_count": 98,
   "metadata": {},
   "outputs": [],
   "source": [
    "max_r_abacus = []\n",
    "max_r_gauss = []\n",
    "\n",
    "mean_r_abacus = []\n",
    "mean_r_gauss = []\n",
    "\n",
    "std_r_abacus = []\n",
    "std_r_gauss = []\n",
    "\n",
    "n_abacus = []\n",
    "n_gauss = []\n",
    "\n",
    "\n",
    "sigmas = [1.0, 3.0, 5.0, 7.0, 10.0]\n",
    "for sigma in sigmas:\n",
    "    max_r_abacus.append(ws[\"abacus_{:.2f}\".format(sigma*2)][\"max_radius\"])\n",
    "    max_r_gauss.append(ws[\"gauss_{:.2f}\".format(sigma*2)][\"max_radius\"])\n",
    "    mean_r_abacus.append(ws[\"abacus_{:.2f}\".format(sigma*2)][\"mean_radius\"])\n",
    "    mean_r_gauss.append(ws[\"gauss_{:.2f}\".format(sigma*2)][\"mean_radius\"])\n",
    "    std_r_abacus.append(ws[\"abacus_{:.2f}\".format(sigma*2)][\"std_radius\"])\n",
    "    std_r_gauss.append(ws[\"gauss_{:.2f}\".format(sigma*2)][\"std_radius\"])\n",
    "    n_abacus.append(ws[\"abacus_{:.2f}\".format(sigma*2)][\"N\"])\n",
    "    n_gauss.append(ws[\"gauss_{:.2f}\".format(sigma*2)][\"N\"])\n",
    "\n",
    "max_r_abacus = np.array(max_r_abacus)\n",
    "max_r_gauss = np.array(max_r_gauss)\n",
    "    \n",
    "mean_r_abacus = np.array(mean_r_abacus)\n",
    "mean_r_gauss = np.array(mean_r_gauss)\n",
    "\n",
    "std_r_abacus = np.array(std_r_abacus)\n",
    "std_r_gauss = np.array(std_r_gauss)\n",
    "\n",
    "n_abacus = np.array(n_abacus)\n",
    "n_gauss = np.array(n_gauss)"
   ]
  },
  {
   "cell_type": "code",
   "execution_count": 100,
   "metadata": {},
   "outputs": [
    {
     "data": {
      "text/plain": [
       "[<matplotlib.lines.Line2D at 0x1535b4cfd0>]"
      ]
     },
     "execution_count": 100,
     "metadata": {},
     "output_type": "execute_result"
    },
    {
     "data": {
      "image/png": "[encoded data removed]",
      "text/plain": [
       "<Figure size 432x288 with 1 Axes>"
      ]
     },
     "metadata": {
      "needs_background": "light"
     },
     "output_type": "display_data"
    }
   ],
   "source": [
    "x = np.linspace(2,60, 100)\n",
    "plt.scatter(length_data[:,1], max_r_gauss)\n",
    "plt.scatter(length_data[:,2], max_r_abacus)\n",
    "plt.plot(x, x*3)"
   ]
  },
  {
   "cell_type": "code",
   "execution_count": 80,
   "metadata": {},
   "outputs": [
    {
     "data": {
      "text/plain": [
       "[<matplotlib.lines.Line2D at 0x15349454e0>]"
      ]
     },
     "execution_count": 80,
     "metadata": {},
     "output_type": "execute_result"
    },
    {
     "data": {
      "image/png": "[encoded data removed]",
      "text/plain": [
       "<Figure size 432x288 with 1 Axes>"
      ]
     },
     "metadata": {
      "needs_background": "light"
     },
     "output_type": "display_data"
    }
   ],
   "source": [
    "x = np.linspace(2,60, 100)\n",
    "plt.scatter(length_data[:,1], mean_r_gauss)\n",
    "plt.scatter(length_data[:,2], mean_r_abacus)\n",
    "plt.plot(x, x*2)"
   ]
  },
  {
   "cell_type": "code",
   "execution_count": 97,
   "metadata": {},
   "outputs": [
    {
     "data": {
      "text/plain": [
       "<matplotlib.collections.PathCollection at 0x153589a400>"
      ]
     },
     "execution_count": 97,
     "metadata": {},
     "output_type": "execute_result"
    },
    {
     "data": {
      "image/png": "[encoded data removed]",
      "text/plain": [
       "<Figure size 432x288 with 1 Axes>"
      ]
     },
     "metadata": {
      "needs_background": "light"
     },
     "output_type": "display_data"
    }
   ],
   "source": [
    "x = np.linspace(2,60, 100)\n",
    "plt.scatter(length_data[:,1], std_r_gauss)\n",
    "plt.scatter(length_data[:,2], std_r_abacus)\n"
   ]
  },
  {
   "cell_type": "code",
   "execution_count": 91,
   "metadata": {},
   "outputs": [
    {
     "data": {
      "text/plain": [
       "[<matplotlib.lines.Line2D at 0x153561ca20>]"
      ]
     },
     "execution_count": 91,
     "metadata": {},
     "output_type": "execute_result"
    },
    {
     "data": {
      "image/png": "[encoded data removed]",
      "text/plain": [
       "<Figure size 432x288 with 1 Axes>"
      ]
     },
     "metadata": {
      "needs_background": "light"
     },
     "output_type": "display_data"
    }
   ],
   "source": [
    "x = np.linspace(2,120, 100)\n",
    "plt.scatter(mean_r_gauss, (3.0*((720**3)/n_gauss)/(4.0*np.pi))**(1/3))\n",
    "plt.scatter(mean_r_abacus, (3.0*((720**3)/n_abacus)/(4.0*np.pi))**(1/3))\n",
    "plt.plot(x, x)"
   ]
  },
  {
   "cell_type": "code",
   "execution_count": null,
   "metadata": {},
   "outputs": [],
   "source": []
  }
 ],
 "metadata": {
  "kernelspec": {
   "display_name": "Python 3",
   "language": "python",
   "name": "python3"
  },
  "language_info": {
   "codemirror_mode": {
    "name": "ipython",
    "version": 3
   },
   "file_extension": ".py",
   "mimetype": "text/x-python",
   "name": "python",
   "nbconvert_exporter": "python",
   "pygments_lexer": "ipython3",
   "version": "3.6.10"
  }
 },
 "nbformat": 4,
 "nbformat_minor": 4
}
